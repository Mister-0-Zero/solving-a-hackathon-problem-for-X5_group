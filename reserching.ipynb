{
 "cells": [
  {
   "cell_type": "code",
   "execution_count": 1,
   "id": "bd45ecbf",
   "metadata": {},
   "outputs": [],
   "source": [
    "import pandas as pd"
   ]
  },
  {
   "cell_type": "code",
   "execution_count": 3,
   "id": "2ab8ef5b",
   "metadata": {},
   "outputs": [],
   "source": [
    "train = pd.read_csv(\".data/train.csv\", sep=\";\")"
   ]
  },
  {
   "cell_type": "code",
   "execution_count": 6,
   "id": "37964814",
   "metadata": {},
   "outputs": [
    {
     "data": {
      "text/html": [
       "<div>\n",
       "<style scoped>\n",
       "    .dataframe tbody tr th:only-of-type {\n",
       "        vertical-align: middle;\n",
       "    }\n",
       "\n",
       "    .dataframe tbody tr th {\n",
       "        vertical-align: top;\n",
       "    }\n",
       "\n",
       "    .dataframe thead th {\n",
       "        text-align: right;\n",
       "    }\n",
       "</style>\n",
       "<table border=\"1\" class=\"dataframe\">\n",
       "  <thead>\n",
       "    <tr style=\"text-align: right;\">\n",
       "      <th></th>\n",
       "      <th>sample</th>\n",
       "      <th>annotation</th>\n",
       "    </tr>\n",
       "  </thead>\n",
       "  <tbody>\n",
       "    <tr>\n",
       "      <th>0</th>\n",
       "      <td>aa</td>\n",
       "      <td>[(0, 2, 'O')]</td>\n",
       "    </tr>\n",
       "    <tr>\n",
       "      <th>1</th>\n",
       "      <td>aala</td>\n",
       "      <td>[(0, 4, 'O')]</td>\n",
       "    </tr>\n",
       "    <tr>\n",
       "      <th>2</th>\n",
       "      <td>aarcca</td>\n",
       "      <td>[(0, 6, 'O')]</td>\n",
       "    </tr>\n",
       "    <tr>\n",
       "      <th>3</th>\n",
       "      <td>abon</td>\n",
       "      <td>[(0, 4, 'O')]</td>\n",
       "    </tr>\n",
       "    <tr>\n",
       "      <th>4</th>\n",
       "      <td>abso</td>\n",
       "      <td>[(0, 4, 'B-BRAND')]</td>\n",
       "    </tr>\n",
       "    <tr>\n",
       "      <th>5</th>\n",
       "      <td>abtoys игруш</td>\n",
       "      <td>[(0, 6, 'B-BRAND'), (7, 12, 'B-TYPE')]</td>\n",
       "    </tr>\n",
       "    <tr>\n",
       "      <th>6</th>\n",
       "      <td>abtoys игрушк</td>\n",
       "      <td>[(0, 6, 'B-BRAND'), (7, 13, 'B-TYPE')]</td>\n",
       "    </tr>\n",
       "    <tr>\n",
       "      <th>7</th>\n",
       "      <td>abtoys игрушки</td>\n",
       "      <td>[(0, 6, 'B-BRAND'), (7, 14, 'B-TYPE')]</td>\n",
       "    </tr>\n",
       "    <tr>\n",
       "      <th>8</th>\n",
       "      <td>acofe</td>\n",
       "      <td>[(0, 5, 'O')]</td>\n",
       "    </tr>\n",
       "    <tr>\n",
       "      <th>9</th>\n",
       "      <td>actimal</td>\n",
       "      <td>[(0, 7, 'B-BRAND')]</td>\n",
       "    </tr>\n",
       "  </tbody>\n",
       "</table>\n",
       "</div>"
      ],
      "text/plain": [
       "           sample                              annotation\n",
       "0              aa                           [(0, 2, 'O')]\n",
       "1            aala                           [(0, 4, 'O')]\n",
       "2          aarcca                           [(0, 6, 'O')]\n",
       "3            abon                           [(0, 4, 'O')]\n",
       "4            abso                     [(0, 4, 'B-BRAND')]\n",
       "5    abtoys игруш  [(0, 6, 'B-BRAND'), (7, 12, 'B-TYPE')]\n",
       "6   abtoys игрушк  [(0, 6, 'B-BRAND'), (7, 13, 'B-TYPE')]\n",
       "7  abtoys игрушки  [(0, 6, 'B-BRAND'), (7, 14, 'B-TYPE')]\n",
       "8           acofe                           [(0, 5, 'O')]\n",
       "9         actimal                     [(0, 7, 'B-BRAND')]"
      ]
     },
     "execution_count": 6,
     "metadata": {},
     "output_type": "execute_result"
    }
   ],
   "source": [
    "train.head(10)"
   ]
  },
  {
   "cell_type": "code",
   "execution_count": 5,
   "id": "3b1a4455",
   "metadata": {},
   "outputs": [
    {
     "name": "stdout",
     "output_type": "stream",
     "text": [
      "<class 'pandas.core.frame.DataFrame'>\n",
      "RangeIndex: 27251 entries, 0 to 27250\n",
      "Data columns (total 2 columns):\n",
      " #   Column      Non-Null Count  Dtype \n",
      "---  ------      --------------  ----- \n",
      " 0   sample      27251 non-null  object\n",
      " 1   annotation  27251 non-null  object\n",
      "dtypes: object(2)\n",
      "memory usage: 425.9+ KB\n"
     ]
    }
   ],
   "source": [
    "train.info()"
   ]
  },
  {
   "cell_type": "code",
   "execution_count": 18,
   "id": "ba6bb921",
   "metadata": {},
   "outputs": [],
   "source": [
    "import re\n",
    "from dataclasses import dataclass\n",
    "from typing import List\n",
    "\n",
    "@dataclass\n",
    "class Token:\n",
    "    text: str\n",
    "    start: int  # индекс начала (включительно)\n",
    "    end: int    # индекс конца (исключительно)\n",
    "\n",
    "_TOKEN_RE = re.compile(r\"\\S+\")\n",
    "\n",
    "def tokenize_with_offsets(text: str) -> List[Token]:\n",
    "    \"\"\"'абрикосы 500г' -> [Token('абрикосы',0,8), Token('500г',9,12)]\"\"\"\n",
    "    return [Token(m.group(0), m.start(), m.end()) for m in _TOKEN_RE.finditer(text or \"\")]"
   ]
  },
  {
   "cell_type": "code",
   "execution_count": 19,
   "id": "2781fcc3",
   "metadata": {},
   "outputs": [
    {
     "data": {
      "text/plain": [
       "[Token(text='армотизатор', start=0, end=11),\n",
       " Token(text='66fg', start=12, end=16)]"
      ]
     },
     "execution_count": 19,
     "metadata": {},
     "output_type": "execute_result"
    }
   ],
   "source": [
    "tokenize_with_offsets(\"армотизатор 66fg\")"
   ]
  },
  {
   "cell_type": "code",
   "execution_count": null,
   "id": "17dad0a5",
   "metadata": {},
   "outputs": [],
   "source": []
  }
 ],
 "metadata": {
  "kernelspec": {
   "display_name": ".venv",
   "language": "python",
   "name": "python3"
  },
  "language_info": {
   "codemirror_mode": {
    "name": "ipython",
    "version": 3
   },
   "file_extension": ".py",
   "mimetype": "text/x-python",
   "name": "python",
   "nbconvert_exporter": "python",
   "pygments_lexer": "ipython3",
   "version": "3.11.2"
  }
 },
 "nbformat": 4,
 "nbformat_minor": 5
}
